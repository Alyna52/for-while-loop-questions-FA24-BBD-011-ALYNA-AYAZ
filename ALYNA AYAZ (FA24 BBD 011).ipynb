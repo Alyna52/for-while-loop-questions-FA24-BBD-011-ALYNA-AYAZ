{
 "cells": [
  {
   "cell_type": "code",
   "execution_count": 11,
   "id": "8d913647-9a1f-4de7-bbd3-addbdb55407f",
   "metadata": {},
   "outputs": [
    {
     "name": "stdout",
     "output_type": "stream",
     "text": [
      "1\n",
      "2\n",
      "3\n",
      "4\n",
      "5\n",
      "6\n",
      "7\n",
      "8\n",
      "9\n",
      "10\n"
     ]
    }
   ],
   "source": [
    "#QUESTION NUMBER 1 \n",
    "i = 1\n",
    "while i <=10: \n",
    "    print(i)\n",
    "    i = i + 1 "
   ]
  },
  {
   "cell_type": "code",
   "execution_count": 1,
   "id": "fa7968ae-6aa4-4723-8593-aa1ae25378be",
   "metadata": {},
   "outputs": [
    {
     "name": "stdout",
     "output_type": "stream",
     "text": [
      "2\n",
      "4\n",
      "6\n",
      "8\n",
      "10\n",
      "12\n",
      "14\n",
      "16\n",
      "18\n",
      "20\n"
     ]
    }
   ],
   "source": [
    "#QUESTION NUMBER 2 \n",
    "a = 1\n",
    "while a<=20:\n",
    "    if a % 2 == 0:\n",
    "        print(a)\n",
    "    a = a + 1    "
   ]
  },
  {
   "cell_type": "code",
   "execution_count": 3,
   "id": "7b656f79-f600-4cda-846c-979742f0431c",
   "metadata": {},
   "outputs": [
    {
     "name": "stdout",
     "output_type": "stream",
     "text": [
      "The sum of the first 10 natural numbers is: 55\n"
     ]
    }
   ],
   "source": [
    "#QUESTION NUMBER 3 \n",
    "a = 1\n",
    "sum = 0\n",
    "\n",
    "while a <= 10:\n",
    "    sum += a\n",
    "    a += 1\n",
    "\n",
    "print(\"The sum of the first 10 natural numbers is:\", sum)\n",
    "    "
   ]
  },
  {
   "cell_type": "code",
   "execution_count": 7,
   "id": "40a9fe78-f714-4ad3-b2da-be4a8d916f96",
   "metadata": {},
   "outputs": [
    {
     "name": "stdin",
     "output_type": "stream",
     "text": [
      "Enter a number or enter negative number to exit:  2\n",
      "Enter a number or enter negative number to exit:  -5\n"
     ]
    },
    {
     "name": "stdout",
     "output_type": "stream",
     "text": [
      "The total sum of the numbers entered  2\n"
     ]
    }
   ],
   "source": [
    "#QUESTION NUMBER 4 \n",
    "sum = 0\n",
    "while True:\n",
    "    number=int(input(\"Enter a number or enter negative number to exit: \"))\n",
    "    if number < 0:\n",
    "        break\n",
    "    sum+=number\n",
    "print(\"The total sum of the numbers entered \", sum)"
   ]
  },
  {
   "cell_type": "code",
   "execution_count": 11,
   "id": "c2bb999f-7790-4da5-a523-3da8857da32d",
   "metadata": {},
   "outputs": [
    {
     "name": "stdout",
     "output_type": "stream",
     "text": [
      "Lets play the guessing game\n"
     ]
    },
    {
     "name": "stdin",
     "output_type": "stream",
     "text": [
      "Guess num between 1 and 100: 70\n"
     ]
    },
    {
     "name": "stdout",
     "output_type": "stream",
     "text": [
      "Higher than correct guess\n"
     ]
    },
    {
     "name": "stdin",
     "output_type": "stream",
     "text": [
      "Guess num between 1 and 100: 45\n"
     ]
    },
    {
     "name": "stdout",
     "output_type": "stream",
     "text": [
      "Lower than correct guess\n"
     ]
    },
    {
     "name": "stdin",
     "output_type": "stream",
     "text": [
      "Guess num between 1 and 100: 55\n"
     ]
    },
    {
     "name": "stdout",
     "output_type": "stream",
     "text": [
      "You have guessed right\n"
     ]
    }
   ],
   "source": [
    "#QUESTION NUMBER 5 \n",
    "print(\"ets play the guessing game\")\n",
    "number= 55\n",
    "guess=0\n",
    "while True:\n",
    "    guess=int(input('Guess num between 1 and 100:'))\n",
    "    if guess==number:\n",
    "        print('You have guessed right')\n",
    "        break\n",
    "    elif guess<number:\n",
    "        print('Lower than correct guess')\n",
    "    else:\n",
    "        print('Higher than correct guess')\n",
    "\n"
   ]
  },
  {
   "cell_type": "code",
   "execution_count": 17,
   "id": "64609594-ad32-4b50-ba71-2eaf5203fbbc",
   "metadata": {},
   "outputs": [
    {
     "name": "stdin",
     "output_type": "stream",
     "text": [
      "Enter a positive integer: 3\n"
     ]
    },
    {
     "name": "stdout",
     "output_type": "stream",
     "text": [
      "Factorial: 6\n"
     ]
    }
   ],
   "source": [
    "#QUESTION NUMBER 6 \n",
    "number=int(input('Enter a positive integer:'))\n",
    "factorial= 1\n",
    "while number>0:\n",
    "    factorial*=number\n",
    "    number-=1\n",
    "print('Factorial:',factorial)"
   ]
  },
  {
   "cell_type": "code",
   "execution_count": 27,
   "id": "985bdbbb-f43e-4289-8374-fb58509598fb",
   "metadata": {},
   "outputs": [
    {
     "name": "stdin",
     "output_type": "stream",
     "text": [
      "enter a number or ('done' to finish): 88\n",
      "enter a number or ('done' to finish): 55\n",
      "enter a number or ('done' to finish): done\n"
     ]
    },
    {
     "name": "stdout",
     "output_type": "stream",
     "text": [
      "average: 71.5\n"
     ]
    }
   ],
   "source": [
    "#QUESTION NUMBER 7 \n",
    "total = 0\n",
    "count = 0\n",
    "while True:\n",
    "    number = input(\"enter a number or ('done' to finish):\")\n",
    "    if number.lower() == 'done':\n",
    "        break \n",
    "    else:\n",
    "        total += float(number)\n",
    "        count += 1\n",
    "print(\"average:\",total/count)        "
   ]
  },
  {
   "cell_type": "code",
   "execution_count": 35,
   "id": "fe03b99c-2229-4b46-ac81-2584542a684f",
   "metadata": {},
   "outputs": [
    {
     "name": "stdin",
     "output_type": "stream",
     "text": [
      "enter a num 45\n"
     ]
    },
    {
     "name": "stdout",
     "output_type": "stream",
     "text": [
      "0 1 1 2 3 5 8 13 21 34 "
     ]
    }
   ],
   "source": [
    "#QUESTION NUMBER 8\n",
    "i = int(input(\"enter a num\"))\n",
    "a = 0\n",
    "b = 1\n",
    "while a <= i:\n",
    "    print(a, end=\" \")\n",
    "    a, b = b , a + b \n",
    "        "
   ]
  },
  {
   "cell_type": "code",
   "execution_count": null,
   "id": "b1505ab1-f9a8-42ff-82dc-80b48572b5bd",
   "metadata": {},
   "outputs": [],
   "source": []
  }
 ],
 "metadata": {
  "kernelspec": {
   "display_name": "Python 3 (ipykernel)",
   "language": "python",
   "name": "python3"
  },
  "language_info": {
   "codemirror_mode": {
    "name": "ipython",
    "version": 3
   },
   "file_extension": ".py",
   "mimetype": "text/x-python",
   "name": "python",
   "nbconvert_exporter": "python",
   "pygments_lexer": "ipython3",
   "version": "3.12.4"
  }
 },
 "nbformat": 4,
 "nbformat_minor": 5
}
